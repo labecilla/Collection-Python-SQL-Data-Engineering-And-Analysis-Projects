{
 "cells": [
  {
   "cell_type": "code",
   "execution_count": 1,
   "metadata": {
    "collapsed": true
   },
   "outputs": [],
   "source": [
    "import pandas as pd\n",
    "import numpy as np\n",
    "import matplotlib.pyplot as plt"
   ]
  },
  {
   "cell_type": "code",
   "execution_count": 2,
   "metadata": {
    "collapsed": false
   },
   "outputs": [
    {
     "data": {
      "text/html": [
       "<div>\n",
       "<style scoped>\n",
       "    .dataframe tbody tr th:only-of-type {\n",
       "        vertical-align: middle;\n",
       "    }\n",
       "\n",
       "    .dataframe tbody tr th {\n",
       "        vertical-align: top;\n",
       "    }\n",
       "\n",
       "    .dataframe thead th {\n",
       "        text-align: right;\n",
       "    }\n",
       "</style>\n",
       "<table border=\"1\" class=\"dataframe\">\n",
       "  <thead>\n",
       "    <tr style=\"text-align: right;\">\n",
       "      <th></th>\n",
       "      <th>RespondentID</th>\n",
       "      <th>Have you seen any of the 6 films in the Star Wars franchise?</th>\n",
       "      <th>Do you consider yourself to be a fan of the Star Wars film franchise?</th>\n",
       "      <th>Which of the following Star Wars films have you seen? Please select all that apply.</th>\n",
       "      <th>Unnamed: 4</th>\n",
       "      <th>Unnamed: 5</th>\n",
       "      <th>Unnamed: 6</th>\n",
       "      <th>Unnamed: 7</th>\n",
       "      <th>Unnamed: 8</th>\n",
       "      <th>Please rank the Star Wars films in order of preference with 1 being your favorite film in the franchise and 6 being your least favorite film.</th>\n",
       "      <th>...</th>\n",
       "      <th>Unnamed: 28</th>\n",
       "      <th>Which character shot first?</th>\n",
       "      <th>Are you familiar with the Expanded Universe?</th>\n",
       "      <th>Do you consider yourself to be a fan of the Expanded Universe?ÂÃ¦</th>\n",
       "      <th>Do you consider yourself to be a fan of the Star Trek franchise?</th>\n",
       "      <th>Gender</th>\n",
       "      <th>Age</th>\n",
       "      <th>Household Income</th>\n",
       "      <th>Education</th>\n",
       "      <th>Location (Census Region)</th>\n",
       "    </tr>\n",
       "  </thead>\n",
       "  <tbody>\n",
       "    <tr>\n",
       "      <th>0</th>\n",
       "      <td>NaN</td>\n",
       "      <td>Response</td>\n",
       "      <td>Response</td>\n",
       "      <td>Star Wars: Episode I  The Phantom Menace</td>\n",
       "      <td>Star Wars: Episode II  Attack of the Clones</td>\n",
       "      <td>Star Wars: Episode III  Revenge of the Sith</td>\n",
       "      <td>Star Wars: Episode IV  A New Hope</td>\n",
       "      <td>Star Wars: Episode V The Empire Strikes Back</td>\n",
       "      <td>Star Wars: Episode VI Return of the Jedi</td>\n",
       "      <td>Star Wars: Episode I  The Phantom Menace</td>\n",
       "      <td>...</td>\n",
       "      <td>Yoda</td>\n",
       "      <td>Response</td>\n",
       "      <td>Response</td>\n",
       "      <td>Response</td>\n",
       "      <td>Response</td>\n",
       "      <td>Response</td>\n",
       "      <td>Response</td>\n",
       "      <td>Response</td>\n",
       "      <td>Response</td>\n",
       "      <td>Response</td>\n",
       "    </tr>\n",
       "    <tr>\n",
       "      <th>1</th>\n",
       "      <td>3.292880e+09</td>\n",
       "      <td>Yes</td>\n",
       "      <td>Yes</td>\n",
       "      <td>Star Wars: Episode I  The Phantom Menace</td>\n",
       "      <td>Star Wars: Episode II  Attack of the Clones</td>\n",
       "      <td>Star Wars: Episode III  Revenge of the Sith</td>\n",
       "      <td>Star Wars: Episode IV  A New Hope</td>\n",
       "      <td>Star Wars: Episode V The Empire Strikes Back</td>\n",
       "      <td>Star Wars: Episode VI Return of the Jedi</td>\n",
       "      <td>3</td>\n",
       "      <td>...</td>\n",
       "      <td>Very favorably</td>\n",
       "      <td>I don't understand this question</td>\n",
       "      <td>Yes</td>\n",
       "      <td>No</td>\n",
       "      <td>No</td>\n",
       "      <td>Male</td>\n",
       "      <td>18-29</td>\n",
       "      <td>NaN</td>\n",
       "      <td>High school degree</td>\n",
       "      <td>South Atlantic</td>\n",
       "    </tr>\n",
       "    <tr>\n",
       "      <th>2</th>\n",
       "      <td>3.292880e+09</td>\n",
       "      <td>No</td>\n",
       "      <td>NaN</td>\n",
       "      <td>NaN</td>\n",
       "      <td>NaN</td>\n",
       "      <td>NaN</td>\n",
       "      <td>NaN</td>\n",
       "      <td>NaN</td>\n",
       "      <td>NaN</td>\n",
       "      <td>NaN</td>\n",
       "      <td>...</td>\n",
       "      <td>NaN</td>\n",
       "      <td>NaN</td>\n",
       "      <td>NaN</td>\n",
       "      <td>NaN</td>\n",
       "      <td>Yes</td>\n",
       "      <td>Male</td>\n",
       "      <td>18-29</td>\n",
       "      <td>$0 - $24,999</td>\n",
       "      <td>Bachelor degree</td>\n",
       "      <td>West South Central</td>\n",
       "    </tr>\n",
       "    <tr>\n",
       "      <th>3</th>\n",
       "      <td>3.292765e+09</td>\n",
       "      <td>Yes</td>\n",
       "      <td>No</td>\n",
       "      <td>Star Wars: Episode I  The Phantom Menace</td>\n",
       "      <td>Star Wars: Episode II  Attack of the Clones</td>\n",
       "      <td>Star Wars: Episode III  Revenge of the Sith</td>\n",
       "      <td>NaN</td>\n",
       "      <td>NaN</td>\n",
       "      <td>NaN</td>\n",
       "      <td>1</td>\n",
       "      <td>...</td>\n",
       "      <td>Unfamiliar (N/A)</td>\n",
       "      <td>I don't understand this question</td>\n",
       "      <td>No</td>\n",
       "      <td>NaN</td>\n",
       "      <td>No</td>\n",
       "      <td>Male</td>\n",
       "      <td>18-29</td>\n",
       "      <td>$0 - $24,999</td>\n",
       "      <td>High school degree</td>\n",
       "      <td>West North Central</td>\n",
       "    </tr>\n",
       "    <tr>\n",
       "      <th>4</th>\n",
       "      <td>3.292763e+09</td>\n",
       "      <td>Yes</td>\n",
       "      <td>Yes</td>\n",
       "      <td>Star Wars: Episode I  The Phantom Menace</td>\n",
       "      <td>Star Wars: Episode II  Attack of the Clones</td>\n",
       "      <td>Star Wars: Episode III  Revenge of the Sith</td>\n",
       "      <td>Star Wars: Episode IV  A New Hope</td>\n",
       "      <td>Star Wars: Episode V The Empire Strikes Back</td>\n",
       "      <td>Star Wars: Episode VI Return of the Jedi</td>\n",
       "      <td>5</td>\n",
       "      <td>...</td>\n",
       "      <td>Very favorably</td>\n",
       "      <td>I don't understand this question</td>\n",
       "      <td>No</td>\n",
       "      <td>NaN</td>\n",
       "      <td>Yes</td>\n",
       "      <td>Male</td>\n",
       "      <td>18-29</td>\n",
       "      <td>$100,000 - $149,999</td>\n",
       "      <td>Some college or Associate degree</td>\n",
       "      <td>West North Central</td>\n",
       "    </tr>\n",
       "    <tr>\n",
       "      <th>5</th>\n",
       "      <td>3.292731e+09</td>\n",
       "      <td>Yes</td>\n",
       "      <td>Yes</td>\n",
       "      <td>Star Wars: Episode I  The Phantom Menace</td>\n",
       "      <td>Star Wars: Episode II  Attack of the Clones</td>\n",
       "      <td>Star Wars: Episode III  Revenge of the Sith</td>\n",
       "      <td>Star Wars: Episode IV  A New Hope</td>\n",
       "      <td>Star Wars: Episode V The Empire Strikes Back</td>\n",
       "      <td>Star Wars: Episode VI Return of the Jedi</td>\n",
       "      <td>5</td>\n",
       "      <td>...</td>\n",
       "      <td>Somewhat favorably</td>\n",
       "      <td>Greedo</td>\n",
       "      <td>Yes</td>\n",
       "      <td>No</td>\n",
       "      <td>No</td>\n",
       "      <td>Male</td>\n",
       "      <td>18-29</td>\n",
       "      <td>$100,000 - $149,999</td>\n",
       "      <td>Some college or Associate degree</td>\n",
       "      <td>West North Central</td>\n",
       "    </tr>\n",
       "    <tr>\n",
       "      <th>6</th>\n",
       "      <td>3.292719e+09</td>\n",
       "      <td>Yes</td>\n",
       "      <td>Yes</td>\n",
       "      <td>Star Wars: Episode I  The Phantom Menace</td>\n",
       "      <td>Star Wars: Episode II  Attack of the Clones</td>\n",
       "      <td>Star Wars: Episode III  Revenge of the Sith</td>\n",
       "      <td>Star Wars: Episode IV  A New Hope</td>\n",
       "      <td>Star Wars: Episode V The Empire Strikes Back</td>\n",
       "      <td>Star Wars: Episode VI Return of the Jedi</td>\n",
       "      <td>1</td>\n",
       "      <td>...</td>\n",
       "      <td>Very favorably</td>\n",
       "      <td>Han</td>\n",
       "      <td>Yes</td>\n",
       "      <td>No</td>\n",
       "      <td>Yes</td>\n",
       "      <td>Male</td>\n",
       "      <td>18-29</td>\n",
       "      <td>$25,000 - $49,999</td>\n",
       "      <td>Bachelor degree</td>\n",
       "      <td>Middle Atlantic</td>\n",
       "    </tr>\n",
       "    <tr>\n",
       "      <th>7</th>\n",
       "      <td>3.292685e+09</td>\n",
       "      <td>Yes</td>\n",
       "      <td>Yes</td>\n",
       "      <td>Star Wars: Episode I  The Phantom Menace</td>\n",
       "      <td>Star Wars: Episode II  Attack of the Clones</td>\n",
       "      <td>Star Wars: Episode III  Revenge of the Sith</td>\n",
       "      <td>Star Wars: Episode IV  A New Hope</td>\n",
       "      <td>Star Wars: Episode V The Empire Strikes Back</td>\n",
       "      <td>Star Wars: Episode VI Return of the Jedi</td>\n",
       "      <td>6</td>\n",
       "      <td>...</td>\n",
       "      <td>Very favorably</td>\n",
       "      <td>Han</td>\n",
       "      <td>Yes</td>\n",
       "      <td>No</td>\n",
       "      <td>No</td>\n",
       "      <td>Male</td>\n",
       "      <td>18-29</td>\n",
       "      <td>NaN</td>\n",
       "      <td>High school degree</td>\n",
       "      <td>East North Central</td>\n",
       "    </tr>\n",
       "    <tr>\n",
       "      <th>8</th>\n",
       "      <td>3.292664e+09</td>\n",
       "      <td>Yes</td>\n",
       "      <td>Yes</td>\n",
       "      <td>Star Wars: Episode I  The Phantom Menace</td>\n",
       "      <td>Star Wars: Episode II  Attack of the Clones</td>\n",
       "      <td>Star Wars: Episode III  Revenge of the Sith</td>\n",
       "      <td>Star Wars: Episode IV  A New Hope</td>\n",
       "      <td>Star Wars: Episode V The Empire Strikes Back</td>\n",
       "      <td>Star Wars: Episode VI Return of the Jedi</td>\n",
       "      <td>4</td>\n",
       "      <td>...</td>\n",
       "      <td>Very favorably</td>\n",
       "      <td>Han</td>\n",
       "      <td>No</td>\n",
       "      <td>NaN</td>\n",
       "      <td>Yes</td>\n",
       "      <td>Male</td>\n",
       "      <td>18-29</td>\n",
       "      <td>NaN</td>\n",
       "      <td>High school degree</td>\n",
       "      <td>South Atlantic</td>\n",
       "    </tr>\n",
       "    <tr>\n",
       "      <th>9</th>\n",
       "      <td>3.292654e+09</td>\n",
       "      <td>Yes</td>\n",
       "      <td>Yes</td>\n",
       "      <td>Star Wars: Episode I  The Phantom Menace</td>\n",
       "      <td>Star Wars: Episode II  Attack of the Clones</td>\n",
       "      <td>Star Wars: Episode III  Revenge of the Sith</td>\n",
       "      <td>Star Wars: Episode IV  A New Hope</td>\n",
       "      <td>Star Wars: Episode V The Empire Strikes Back</td>\n",
       "      <td>Star Wars: Episode VI Return of the Jedi</td>\n",
       "      <td>5</td>\n",
       "      <td>...</td>\n",
       "      <td>Somewhat favorably</td>\n",
       "      <td>Han</td>\n",
       "      <td>No</td>\n",
       "      <td>NaN</td>\n",
       "      <td>No</td>\n",
       "      <td>Male</td>\n",
       "      <td>18-29</td>\n",
       "      <td>$0 - $24,999</td>\n",
       "      <td>Some college or Associate degree</td>\n",
       "      <td>South Atlantic</td>\n",
       "    </tr>\n",
       "    <tr>\n",
       "      <th>10</th>\n",
       "      <td>3.292640e+09</td>\n",
       "      <td>Yes</td>\n",
       "      <td>No</td>\n",
       "      <td>NaN</td>\n",
       "      <td>Star Wars: Episode II  Attack of the Clones</td>\n",
       "      <td>NaN</td>\n",
       "      <td>NaN</td>\n",
       "      <td>NaN</td>\n",
       "      <td>NaN</td>\n",
       "      <td>1</td>\n",
       "      <td>...</td>\n",
       "      <td>Very favorably</td>\n",
       "      <td>I don't understand this question</td>\n",
       "      <td>No</td>\n",
       "      <td>NaN</td>\n",
       "      <td>No</td>\n",
       "      <td>Male</td>\n",
       "      <td>18-29</td>\n",
       "      <td>$25,000 - $49,999</td>\n",
       "      <td>Some college or Associate degree</td>\n",
       "      <td>Pacific</td>\n",
       "    </tr>\n",
       "    <tr>\n",
       "      <th>11</th>\n",
       "      <td>3.292638e+09</td>\n",
       "      <td>Yes</td>\n",
       "      <td>NaN</td>\n",
       "      <td>NaN</td>\n",
       "      <td>NaN</td>\n",
       "      <td>NaN</td>\n",
       "      <td>NaN</td>\n",
       "      <td>NaN</td>\n",
       "      <td>NaN</td>\n",
       "      <td>NaN</td>\n",
       "      <td>...</td>\n",
       "      <td>NaN</td>\n",
       "      <td>NaN</td>\n",
       "      <td>NaN</td>\n",
       "      <td>NaN</td>\n",
       "      <td>NaN</td>\n",
       "      <td>NaN</td>\n",
       "      <td>NaN</td>\n",
       "      <td>NaN</td>\n",
       "      <td>NaN</td>\n",
       "      <td>NaN</td>\n",
       "    </tr>\n",
       "    <tr>\n",
       "      <th>12</th>\n",
       "      <td>3.292635e+09</td>\n",
       "      <td>No</td>\n",
       "      <td>NaN</td>\n",
       "      <td>NaN</td>\n",
       "      <td>NaN</td>\n",
       "      <td>NaN</td>\n",
       "      <td>NaN</td>\n",
       "      <td>NaN</td>\n",
       "      <td>NaN</td>\n",
       "      <td>NaN</td>\n",
       "      <td>...</td>\n",
       "      <td>NaN</td>\n",
       "      <td>NaN</td>\n",
       "      <td>NaN</td>\n",
       "      <td>NaN</td>\n",
       "      <td>NaN</td>\n",
       "      <td>NaN</td>\n",
       "      <td>NaN</td>\n",
       "      <td>NaN</td>\n",
       "      <td>NaN</td>\n",
       "      <td>NaN</td>\n",
       "    </tr>\n",
       "    <tr>\n",
       "      <th>13</th>\n",
       "      <td>3.292609e+09</td>\n",
       "      <td>Yes</td>\n",
       "      <td>No</td>\n",
       "      <td>Star Wars: Episode I  The Phantom Menace</td>\n",
       "      <td>Star Wars: Episode II  Attack of the Clones</td>\n",
       "      <td>Star Wars: Episode III  Revenge of the Sith</td>\n",
       "      <td>Star Wars: Episode IV  A New Hope</td>\n",
       "      <td>Star Wars: Episode V The Empire Strikes Back</td>\n",
       "      <td>Star Wars: Episode VI Return of the Jedi</td>\n",
       "      <td>3</td>\n",
       "      <td>...</td>\n",
       "      <td>Very favorably</td>\n",
       "      <td>Greedo</td>\n",
       "      <td>No</td>\n",
       "      <td>NaN</td>\n",
       "      <td>No</td>\n",
       "      <td>Male</td>\n",
       "      <td>18-29</td>\n",
       "      <td>$25,000 - $49,999</td>\n",
       "      <td>Bachelor degree</td>\n",
       "      <td>South Atlantic</td>\n",
       "    </tr>\n",
       "    <tr>\n",
       "      <th>14</th>\n",
       "      <td>3.292597e+09</td>\n",
       "      <td>Yes</td>\n",
       "      <td>Yes</td>\n",
       "      <td>Star Wars: Episode I  The Phantom Menace</td>\n",
       "      <td>Star Wars: Episode II  Attack of the Clones</td>\n",
       "      <td>Star Wars: Episode III  Revenge of the Sith</td>\n",
       "      <td>Star Wars: Episode IV  A New Hope</td>\n",
       "      <td>Star Wars: Episode V The Empire Strikes Back</td>\n",
       "      <td>Star Wars: Episode VI Return of the Jedi</td>\n",
       "      <td>4</td>\n",
       "      <td>...</td>\n",
       "      <td>Very favorably</td>\n",
       "      <td>I don't understand this question</td>\n",
       "      <td>No</td>\n",
       "      <td>NaN</td>\n",
       "      <td>No</td>\n",
       "      <td>Male</td>\n",
       "      <td>30-44</td>\n",
       "      <td>$50,000 - $99,999</td>\n",
       "      <td>Graduate degree</td>\n",
       "      <td>Mountain</td>\n",
       "    </tr>\n",
       "    <tr>\n",
       "      <th>15</th>\n",
       "      <td>3.292587e+09</td>\n",
       "      <td>Yes</td>\n",
       "      <td>Yes</td>\n",
       "      <td>Star Wars: Episode I  The Phantom Menace</td>\n",
       "      <td>Star Wars: Episode II  Attack of the Clones</td>\n",
       "      <td>Star Wars: Episode III  Revenge of the Sith</td>\n",
       "      <td>Star Wars: Episode IV  A New Hope</td>\n",
       "      <td>Star Wars: Episode V The Empire Strikes Back</td>\n",
       "      <td>Star Wars: Episode VI Return of the Jedi</td>\n",
       "      <td>4</td>\n",
       "      <td>...</td>\n",
       "      <td>Very favorably</td>\n",
       "      <td>Han</td>\n",
       "      <td>No</td>\n",
       "      <td>NaN</td>\n",
       "      <td>No</td>\n",
       "      <td>Male</td>\n",
       "      <td>18-29</td>\n",
       "      <td>NaN</td>\n",
       "      <td>High school degree</td>\n",
       "      <td>East North Central</td>\n",
       "    </tr>\n",
       "    <tr>\n",
       "      <th>16</th>\n",
       "      <td>3.292583e+09</td>\n",
       "      <td>Yes</td>\n",
       "      <td>Yes</td>\n",
       "      <td>Star Wars: Episode I  The Phantom Menace</td>\n",
       "      <td>Star Wars: Episode II  Attack of the Clones</td>\n",
       "      <td>Star Wars: Episode III  Revenge of the Sith</td>\n",
       "      <td>Star Wars: Episode IV  A New Hope</td>\n",
       "      <td>Star Wars: Episode V The Empire Strikes Back</td>\n",
       "      <td>Star Wars: Episode VI Return of the Jedi</td>\n",
       "      <td>4</td>\n",
       "      <td>...</td>\n",
       "      <td>Somewhat favorably</td>\n",
       "      <td>Han</td>\n",
       "      <td>Yes</td>\n",
       "      <td>Yes</td>\n",
       "      <td>Yes</td>\n",
       "      <td>Male</td>\n",
       "      <td>18-29</td>\n",
       "      <td>$0 - $24,999</td>\n",
       "      <td>Some college or Associate degree</td>\n",
       "      <td>West South Central</td>\n",
       "    </tr>\n",
       "    <tr>\n",
       "      <th>17</th>\n",
       "      <td>3.292581e+09</td>\n",
       "      <td>Yes</td>\n",
       "      <td>Yes</td>\n",
       "      <td>NaN</td>\n",
       "      <td>NaN</td>\n",
       "      <td>NaN</td>\n",
       "      <td>Star Wars: Episode IV  A New Hope</td>\n",
       "      <td>NaN</td>\n",
       "      <td>NaN</td>\n",
       "      <td>4</td>\n",
       "      <td>...</td>\n",
       "      <td>Very unfavorably</td>\n",
       "      <td>Han</td>\n",
       "      <td>Yes</td>\n",
       "      <td>Yes</td>\n",
       "      <td>No</td>\n",
       "      <td>Male</td>\n",
       "      <td>18-29</td>\n",
       "      <td>$50,000 - $99,999</td>\n",
       "      <td>Bachelor degree</td>\n",
       "      <td>New England</td>\n",
       "    </tr>\n",
       "    <tr>\n",
       "      <th>18</th>\n",
       "      <td>3.292573e+09</td>\n",
       "      <td>Yes</td>\n",
       "      <td>Yes</td>\n",
       "      <td>Star Wars: Episode I  The Phantom Menace</td>\n",
       "      <td>Star Wars: Episode II  Attack of the Clones</td>\n",
       "      <td>Star Wars: Episode III  Revenge of the Sith</td>\n",
       "      <td>NaN</td>\n",
       "      <td>NaN</td>\n",
       "      <td>Star Wars: Episode VI Return of the Jedi</td>\n",
       "      <td>1</td>\n",
       "      <td>...</td>\n",
       "      <td>Very favorably</td>\n",
       "      <td>Greedo</td>\n",
       "      <td>No</td>\n",
       "      <td>NaN</td>\n",
       "      <td>No</td>\n",
       "      <td>Male</td>\n",
       "      <td>18-29</td>\n",
       "      <td>NaN</td>\n",
       "      <td>Some college or Associate degree</td>\n",
       "      <td>Middle Atlantic</td>\n",
       "    </tr>\n",
       "    <tr>\n",
       "      <th>19</th>\n",
       "      <td>3.292565e+09</td>\n",
       "      <td>Yes</td>\n",
       "      <td>Yes</td>\n",
       "      <td>Star Wars: Episode I  The Phantom Menace</td>\n",
       "      <td>Star Wars: Episode II  Attack of the Clones</td>\n",
       "      <td>Star Wars: Episode III  Revenge of the Sith</td>\n",
       "      <td>Star Wars: Episode IV  A New Hope</td>\n",
       "      <td>Star Wars: Episode V The Empire Strikes Back</td>\n",
       "      <td>Star Wars: Episode VI Return of the Jedi</td>\n",
       "      <td>6</td>\n",
       "      <td>...</td>\n",
       "      <td>Very favorably</td>\n",
       "      <td>Han</td>\n",
       "      <td>No</td>\n",
       "      <td>NaN</td>\n",
       "      <td>No</td>\n",
       "      <td>Male</td>\n",
       "      <td>18-29</td>\n",
       "      <td>NaN</td>\n",
       "      <td>High school degree</td>\n",
       "      <td>South Atlantic</td>\n",
       "    </tr>\n",
       "  </tbody>\n",
       "</table>\n",
       "<p>20 rows × 38 columns</p>\n",
       "</div>"
      ],
      "text/plain": [
       "    RespondentID Have you seen any of the 6 films in the Star Wars franchise?  \\\n",
       "0            NaN                                           Response             \n",
       "1   3.292880e+09                                                Yes             \n",
       "2   3.292880e+09                                                 No             \n",
       "3   3.292765e+09                                                Yes             \n",
       "4   3.292763e+09                                                Yes             \n",
       "5   3.292731e+09                                                Yes             \n",
       "6   3.292719e+09                                                Yes             \n",
       "7   3.292685e+09                                                Yes             \n",
       "8   3.292664e+09                                                Yes             \n",
       "9   3.292654e+09                                                Yes             \n",
       "10  3.292640e+09                                                Yes             \n",
       "11  3.292638e+09                                                Yes             \n",
       "12  3.292635e+09                                                 No             \n",
       "13  3.292609e+09                                                Yes             \n",
       "14  3.292597e+09                                                Yes             \n",
       "15  3.292587e+09                                                Yes             \n",
       "16  3.292583e+09                                                Yes             \n",
       "17  3.292581e+09                                                Yes             \n",
       "18  3.292573e+09                                                Yes             \n",
       "19  3.292565e+09                                                Yes             \n",
       "\n",
       "   Do you consider yourself to be a fan of the Star Wars film franchise?  \\\n",
       "0                                            Response                      \n",
       "1                                                 Yes                      \n",
       "2                                                 NaN                      \n",
       "3                                                  No                      \n",
       "4                                                 Yes                      \n",
       "5                                                 Yes                      \n",
       "6                                                 Yes                      \n",
       "7                                                 Yes                      \n",
       "8                                                 Yes                      \n",
       "9                                                 Yes                      \n",
       "10                                                 No                      \n",
       "11                                                NaN                      \n",
       "12                                                NaN                      \n",
       "13                                                 No                      \n",
       "14                                                Yes                      \n",
       "15                                                Yes                      \n",
       "16                                                Yes                      \n",
       "17                                                Yes                      \n",
       "18                                                Yes                      \n",
       "19                                                Yes                      \n",
       "\n",
       "   Which of the following Star Wars films have you seen? Please select all that apply.  \\\n",
       "0            Star Wars: Episode I  The Phantom Menace                                    \n",
       "1            Star Wars: Episode I  The Phantom Menace                                    \n",
       "2                                                 NaN                                    \n",
       "3            Star Wars: Episode I  The Phantom Menace                                    \n",
       "4            Star Wars: Episode I  The Phantom Menace                                    \n",
       "5            Star Wars: Episode I  The Phantom Menace                                    \n",
       "6            Star Wars: Episode I  The Phantom Menace                                    \n",
       "7            Star Wars: Episode I  The Phantom Menace                                    \n",
       "8            Star Wars: Episode I  The Phantom Menace                                    \n",
       "9            Star Wars: Episode I  The Phantom Menace                                    \n",
       "10                                                NaN                                    \n",
       "11                                                NaN                                    \n",
       "12                                                NaN                                    \n",
       "13           Star Wars: Episode I  The Phantom Menace                                    \n",
       "14           Star Wars: Episode I  The Phantom Menace                                    \n",
       "15           Star Wars: Episode I  The Phantom Menace                                    \n",
       "16           Star Wars: Episode I  The Phantom Menace                                    \n",
       "17                                                NaN                                    \n",
       "18           Star Wars: Episode I  The Phantom Menace                                    \n",
       "19           Star Wars: Episode I  The Phantom Menace                                    \n",
       "\n",
       "                                     Unnamed: 4  \\\n",
       "0   Star Wars: Episode II  Attack of the Clones   \n",
       "1   Star Wars: Episode II  Attack of the Clones   \n",
       "2                                           NaN   \n",
       "3   Star Wars: Episode II  Attack of the Clones   \n",
       "4   Star Wars: Episode II  Attack of the Clones   \n",
       "5   Star Wars: Episode II  Attack of the Clones   \n",
       "6   Star Wars: Episode II  Attack of the Clones   \n",
       "7   Star Wars: Episode II  Attack of the Clones   \n",
       "8   Star Wars: Episode II  Attack of the Clones   \n",
       "9   Star Wars: Episode II  Attack of the Clones   \n",
       "10  Star Wars: Episode II  Attack of the Clones   \n",
       "11                                          NaN   \n",
       "12                                          NaN   \n",
       "13  Star Wars: Episode II  Attack of the Clones   \n",
       "14  Star Wars: Episode II  Attack of the Clones   \n",
       "15  Star Wars: Episode II  Attack of the Clones   \n",
       "16  Star Wars: Episode II  Attack of the Clones   \n",
       "17                                          NaN   \n",
       "18  Star Wars: Episode II  Attack of the Clones   \n",
       "19  Star Wars: Episode II  Attack of the Clones   \n",
       "\n",
       "                                     Unnamed: 5  \\\n",
       "0   Star Wars: Episode III  Revenge of the Sith   \n",
       "1   Star Wars: Episode III  Revenge of the Sith   \n",
       "2                                           NaN   \n",
       "3   Star Wars: Episode III  Revenge of the Sith   \n",
       "4   Star Wars: Episode III  Revenge of the Sith   \n",
       "5   Star Wars: Episode III  Revenge of the Sith   \n",
       "6   Star Wars: Episode III  Revenge of the Sith   \n",
       "7   Star Wars: Episode III  Revenge of the Sith   \n",
       "8   Star Wars: Episode III  Revenge of the Sith   \n",
       "9   Star Wars: Episode III  Revenge of the Sith   \n",
       "10                                          NaN   \n",
       "11                                          NaN   \n",
       "12                                          NaN   \n",
       "13  Star Wars: Episode III  Revenge of the Sith   \n",
       "14  Star Wars: Episode III  Revenge of the Sith   \n",
       "15  Star Wars: Episode III  Revenge of the Sith   \n",
       "16  Star Wars: Episode III  Revenge of the Sith   \n",
       "17                                          NaN   \n",
       "18  Star Wars: Episode III  Revenge of the Sith   \n",
       "19  Star Wars: Episode III  Revenge of the Sith   \n",
       "\n",
       "                           Unnamed: 6  \\\n",
       "0   Star Wars: Episode IV  A New Hope   \n",
       "1   Star Wars: Episode IV  A New Hope   \n",
       "2                                 NaN   \n",
       "3                                 NaN   \n",
       "4   Star Wars: Episode IV  A New Hope   \n",
       "5   Star Wars: Episode IV  A New Hope   \n",
       "6   Star Wars: Episode IV  A New Hope   \n",
       "7   Star Wars: Episode IV  A New Hope   \n",
       "8   Star Wars: Episode IV  A New Hope   \n",
       "9   Star Wars: Episode IV  A New Hope   \n",
       "10                                NaN   \n",
       "11                                NaN   \n",
       "12                                NaN   \n",
       "13  Star Wars: Episode IV  A New Hope   \n",
       "14  Star Wars: Episode IV  A New Hope   \n",
       "15  Star Wars: Episode IV  A New Hope   \n",
       "16  Star Wars: Episode IV  A New Hope   \n",
       "17  Star Wars: Episode IV  A New Hope   \n",
       "18                                NaN   \n",
       "19  Star Wars: Episode IV  A New Hope   \n",
       "\n",
       "                                      Unnamed: 7  \\\n",
       "0   Star Wars: Episode V The Empire Strikes Back   \n",
       "1   Star Wars: Episode V The Empire Strikes Back   \n",
       "2                                            NaN   \n",
       "3                                            NaN   \n",
       "4   Star Wars: Episode V The Empire Strikes Back   \n",
       "5   Star Wars: Episode V The Empire Strikes Back   \n",
       "6   Star Wars: Episode V The Empire Strikes Back   \n",
       "7   Star Wars: Episode V The Empire Strikes Back   \n",
       "8   Star Wars: Episode V The Empire Strikes Back   \n",
       "9   Star Wars: Episode V The Empire Strikes Back   \n",
       "10                                           NaN   \n",
       "11                                           NaN   \n",
       "12                                           NaN   \n",
       "13  Star Wars: Episode V The Empire Strikes Back   \n",
       "14  Star Wars: Episode V The Empire Strikes Back   \n",
       "15  Star Wars: Episode V The Empire Strikes Back   \n",
       "16  Star Wars: Episode V The Empire Strikes Back   \n",
       "17                                           NaN   \n",
       "18                                           NaN   \n",
       "19  Star Wars: Episode V The Empire Strikes Back   \n",
       "\n",
       "                                  Unnamed: 8  \\\n",
       "0   Star Wars: Episode VI Return of the Jedi   \n",
       "1   Star Wars: Episode VI Return of the Jedi   \n",
       "2                                        NaN   \n",
       "3                                        NaN   \n",
       "4   Star Wars: Episode VI Return of the Jedi   \n",
       "5   Star Wars: Episode VI Return of the Jedi   \n",
       "6   Star Wars: Episode VI Return of the Jedi   \n",
       "7   Star Wars: Episode VI Return of the Jedi   \n",
       "8   Star Wars: Episode VI Return of the Jedi   \n",
       "9   Star Wars: Episode VI Return of the Jedi   \n",
       "10                                       NaN   \n",
       "11                                       NaN   \n",
       "12                                       NaN   \n",
       "13  Star Wars: Episode VI Return of the Jedi   \n",
       "14  Star Wars: Episode VI Return of the Jedi   \n",
       "15  Star Wars: Episode VI Return of the Jedi   \n",
       "16  Star Wars: Episode VI Return of the Jedi   \n",
       "17                                       NaN   \n",
       "18  Star Wars: Episode VI Return of the Jedi   \n",
       "19  Star Wars: Episode VI Return of the Jedi   \n",
       "\n",
       "   Please rank the Star Wars films in order of preference with 1 being your favorite film in the franchise and 6 being your least favorite film.  \\\n",
       "0            Star Wars: Episode I  The Phantom Menace                                                                                              \n",
       "1                                                   3                                                                                              \n",
       "2                                                 NaN                                                                                              \n",
       "3                                                   1                                                                                              \n",
       "4                                                   5                                                                                              \n",
       "5                                                   5                                                                                              \n",
       "6                                                   1                                                                                              \n",
       "7                                                   6                                                                                              \n",
       "8                                                   4                                                                                              \n",
       "9                                                   5                                                                                              \n",
       "10                                                  1                                                                                              \n",
       "11                                                NaN                                                                                              \n",
       "12                                                NaN                                                                                              \n",
       "13                                                  3                                                                                              \n",
       "14                                                  4                                                                                              \n",
       "15                                                  4                                                                                              \n",
       "16                                                  4                                                                                              \n",
       "17                                                  4                                                                                              \n",
       "18                                                  1                                                                                              \n",
       "19                                                  6                                                                                              \n",
       "\n",
       "             ...                    Unnamed: 28  \\\n",
       "0            ...                           Yoda   \n",
       "1            ...                 Very favorably   \n",
       "2            ...                            NaN   \n",
       "3            ...               Unfamiliar (N/A)   \n",
       "4            ...                 Very favorably   \n",
       "5            ...             Somewhat favorably   \n",
       "6            ...                 Very favorably   \n",
       "7            ...                 Very favorably   \n",
       "8            ...                 Very favorably   \n",
       "9            ...             Somewhat favorably   \n",
       "10           ...                 Very favorably   \n",
       "11           ...                            NaN   \n",
       "12           ...                            NaN   \n",
       "13           ...                 Very favorably   \n",
       "14           ...                 Very favorably   \n",
       "15           ...                 Very favorably   \n",
       "16           ...             Somewhat favorably   \n",
       "17           ...               Very unfavorably   \n",
       "18           ...                 Very favorably   \n",
       "19           ...                 Very favorably   \n",
       "\n",
       "         Which character shot first?  \\\n",
       "0                           Response   \n",
       "1   I don't understand this question   \n",
       "2                                NaN   \n",
       "3   I don't understand this question   \n",
       "4   I don't understand this question   \n",
       "5                             Greedo   \n",
       "6                                Han   \n",
       "7                                Han   \n",
       "8                                Han   \n",
       "9                                Han   \n",
       "10  I don't understand this question   \n",
       "11                               NaN   \n",
       "12                               NaN   \n",
       "13                            Greedo   \n",
       "14  I don't understand this question   \n",
       "15                               Han   \n",
       "16                               Han   \n",
       "17                               Han   \n",
       "18                            Greedo   \n",
       "19                               Han   \n",
       "\n",
       "   Are you familiar with the Expanded Universe?  \\\n",
       "0                                      Response   \n",
       "1                                           Yes   \n",
       "2                                           NaN   \n",
       "3                                            No   \n",
       "4                                            No   \n",
       "5                                           Yes   \n",
       "6                                           Yes   \n",
       "7                                           Yes   \n",
       "8                                            No   \n",
       "9                                            No   \n",
       "10                                           No   \n",
       "11                                          NaN   \n",
       "12                                          NaN   \n",
       "13                                           No   \n",
       "14                                           No   \n",
       "15                                           No   \n",
       "16                                          Yes   \n",
       "17                                          Yes   \n",
       "18                                           No   \n",
       "19                                           No   \n",
       "\n",
       "   Do you consider yourself to be a fan of the Expanded Universe?ÂÃ¦  \\\n",
       "0                                            Response                   \n",
       "1                                                  No                   \n",
       "2                                                 NaN                   \n",
       "3                                                 NaN                   \n",
       "4                                                 NaN                   \n",
       "5                                                  No                   \n",
       "6                                                  No                   \n",
       "7                                                  No                   \n",
       "8                                                 NaN                   \n",
       "9                                                 NaN                   \n",
       "10                                                NaN                   \n",
       "11                                                NaN                   \n",
       "12                                                NaN                   \n",
       "13                                                NaN                   \n",
       "14                                                NaN                   \n",
       "15                                                NaN                   \n",
       "16                                                Yes                   \n",
       "17                                                Yes                   \n",
       "18                                                NaN                   \n",
       "19                                                NaN                   \n",
       "\n",
       "   Do you consider yourself to be a fan of the Star Trek franchise?    Gender  \\\n",
       "0                                            Response                Response   \n",
       "1                                                  No                    Male   \n",
       "2                                                 Yes                    Male   \n",
       "3                                                  No                    Male   \n",
       "4                                                 Yes                    Male   \n",
       "5                                                  No                    Male   \n",
       "6                                                 Yes                    Male   \n",
       "7                                                  No                    Male   \n",
       "8                                                 Yes                    Male   \n",
       "9                                                  No                    Male   \n",
       "10                                                 No                    Male   \n",
       "11                                                NaN                     NaN   \n",
       "12                                                NaN                     NaN   \n",
       "13                                                 No                    Male   \n",
       "14                                                 No                    Male   \n",
       "15                                                 No                    Male   \n",
       "16                                                Yes                    Male   \n",
       "17                                                 No                    Male   \n",
       "18                                                 No                    Male   \n",
       "19                                                 No                    Male   \n",
       "\n",
       "         Age     Household Income                         Education  \\\n",
       "0   Response             Response                          Response   \n",
       "1      18-29                  NaN                High school degree   \n",
       "2      18-29         $0 - $24,999                   Bachelor degree   \n",
       "3      18-29         $0 - $24,999                High school degree   \n",
       "4      18-29  $100,000 - $149,999  Some college or Associate degree   \n",
       "5      18-29  $100,000 - $149,999  Some college or Associate degree   \n",
       "6      18-29    $25,000 - $49,999                   Bachelor degree   \n",
       "7      18-29                  NaN                High school degree   \n",
       "8      18-29                  NaN                High school degree   \n",
       "9      18-29         $0 - $24,999  Some college or Associate degree   \n",
       "10     18-29    $25,000 - $49,999  Some college or Associate degree   \n",
       "11       NaN                  NaN                               NaN   \n",
       "12       NaN                  NaN                               NaN   \n",
       "13     18-29    $25,000 - $49,999                   Bachelor degree   \n",
       "14     30-44    $50,000 - $99,999                   Graduate degree   \n",
       "15     18-29                  NaN                High school degree   \n",
       "16     18-29         $0 - $24,999  Some college or Associate degree   \n",
       "17     18-29    $50,000 - $99,999                   Bachelor degree   \n",
       "18     18-29                  NaN  Some college or Associate degree   \n",
       "19     18-29                  NaN                High school degree   \n",
       "\n",
       "   Location (Census Region)  \n",
       "0                  Response  \n",
       "1            South Atlantic  \n",
       "2        West South Central  \n",
       "3        West North Central  \n",
       "4        West North Central  \n",
       "5        West North Central  \n",
       "6           Middle Atlantic  \n",
       "7        East North Central  \n",
       "8            South Atlantic  \n",
       "9            South Atlantic  \n",
       "10                  Pacific  \n",
       "11                      NaN  \n",
       "12                      NaN  \n",
       "13           South Atlantic  \n",
       "14                 Mountain  \n",
       "15       East North Central  \n",
       "16       West South Central  \n",
       "17              New England  \n",
       "18          Middle Atlantic  \n",
       "19           South Atlantic  \n",
       "\n",
       "[20 rows x 38 columns]"
      ]
     },
     "execution_count": 2,
     "metadata": {},
     "output_type": "execute_result"
    }
   ],
   "source": [
    "star_wars = pd.read_csv('star_wars.csv', encoding='ISO-8859-1')\n",
    "\n",
    "star_wars.head(20)"
   ]
  },
  {
   "cell_type": "code",
   "execution_count": 3,
   "metadata": {
    "collapsed": false,
    "scrolled": true
   },
   "outputs": [
    {
     "data": {
      "text/plain": [
       "Index(['RespondentID',\n",
       "       'Have you seen any of the 6 films in the Star Wars franchise?',\n",
       "       'Do you consider yourself to be a fan of the Star Wars film franchise?',\n",
       "       'Which of the following Star Wars films have you seen? Please select all that apply.',\n",
       "       'Unnamed: 4', 'Unnamed: 5', 'Unnamed: 6', 'Unnamed: 7', 'Unnamed: 8',\n",
       "       'Please rank the Star Wars films in order of preference with 1 being your favorite film in the franchise and 6 being your least favorite film.',\n",
       "       'Unnamed: 10', 'Unnamed: 11', 'Unnamed: 12', 'Unnamed: 13',\n",
       "       'Unnamed: 14',\n",
       "       'Please state whether you view the following characters favorably, unfavorably, or are unfamiliar with him/her.',\n",
       "       'Unnamed: 16', 'Unnamed: 17', 'Unnamed: 18', 'Unnamed: 19',\n",
       "       'Unnamed: 20', 'Unnamed: 21', 'Unnamed: 22', 'Unnamed: 23',\n",
       "       'Unnamed: 24', 'Unnamed: 25', 'Unnamed: 26', 'Unnamed: 27',\n",
       "       'Unnamed: 28', 'Which character shot first?',\n",
       "       'Are you familiar with the Expanded Universe?',\n",
       "       'Do you consider yourself to be a fan of the Expanded Universe?ÂÃ¦',\n",
       "       'Do you consider yourself to be a fan of the Star Trek franchise?',\n",
       "       'Gender', 'Age', 'Household Income', 'Education',\n",
       "       'Location (Census Region)'],\n",
       "      dtype='object')"
      ]
     },
     "execution_count": 3,
     "metadata": {},
     "output_type": "execute_result"
    }
   ],
   "source": [
    "star_wars.columns"
   ]
  },
  {
   "cell_type": "code",
   "execution_count": 4,
   "metadata": {
    "collapsed": false,
    "scrolled": false
   },
   "outputs": [
    {
     "data": {
      "text/plain": [
       "RespondentID                                                                                                                                       0\n",
       "Have you seen any of the 6 films in the Star Wars franchise?                                                                                       0\n",
       "Do you consider yourself to be a fan of the Star Wars film franchise?                                                                            350\n",
       "Which of the following Star Wars films have you seen? Please select all that apply.                                                              513\n",
       "Unnamed: 4                                                                                                                                       615\n",
       "Unnamed: 5                                                                                                                                       636\n",
       "Unnamed: 6                                                                                                                                       579\n",
       "Unnamed: 7                                                                                                                                       428\n",
       "Unnamed: 8                                                                                                                                       448\n",
       "Please rank the Star Wars films in order of preference with 1 being your favorite film in the franchise and 6 being your least favorite film.    351\n",
       "Unnamed: 10                                                                                                                                      350\n",
       "Unnamed: 11                                                                                                                                      351\n",
       "Unnamed: 12                                                                                                                                      350\n",
       "Unnamed: 13                                                                                                                                      350\n",
       "Unnamed: 14                                                                                                                                      350\n",
       "Please state whether you view the following characters favorably, unfavorably, or are unfamiliar with him/her.                                   357\n",
       "Unnamed: 16                                                                                                                                      355\n",
       "Unnamed: 17                                                                                                                                      355\n",
       "Unnamed: 18                                                                                                                                      363\n",
       "Unnamed: 19                                                                                                                                      361\n",
       "Unnamed: 20                                                                                                                                      372\n",
       "Unnamed: 21                                                                                                                                      360\n",
       "Unnamed: 22                                                                                                                                      366\n",
       "Unnamed: 23                                                                                                                                      374\n",
       "Unnamed: 24                                                                                                                                      359\n",
       "Unnamed: 25                                                                                                                                      356\n",
       "Unnamed: 26                                                                                                                                      365\n",
       "Unnamed: 27                                                                                                                                      372\n",
       "Unnamed: 28                                                                                                                                      360\n",
       "Which character shot first?                                                                                                                      358\n",
       "Are you familiar with the Expanded Universe?                                                                                                     358\n",
       "Do you consider yourself to be a fan of the Expanded Universe?ÂÃ¦                                                                               973\n",
       "Do you consider yourself to be a fan of the Star Trek franchise?                                                                                 118\n",
       "Gender                                                                                                                                           140\n",
       "Age                                                                                                                                              140\n",
       "Household Income                                                                                                                                 328\n",
       "Education                                                                                                                                        150\n",
       "Location (Census Region)                                                                                                                         143\n",
       "dtype: int64"
      ]
     },
     "execution_count": 4,
     "metadata": {},
     "output_type": "execute_result"
    }
   ],
   "source": [
    "star_wars = star_wars.loc[star_wars.loc[:,'RespondentID'].notnull()]\n",
    "\n",
    "star_wars.isnull().sum()"
   ]
  },
  {
   "cell_type": "code",
   "execution_count": 5,
   "metadata": {
    "collapsed": true
   },
   "outputs": [],
   "source": [
    "star_wars['Have you seen any of the 6 films in the Star Wars franchise?'] = star_wars['Have you seen any of the 6 films in the Star Wars franchise?'].map({\"Yes\":True, \"No\":False})\n",
    "star_wars['Do you consider yourself to be a fan of the Star Wars film franchise?'] = star_wars['Do you consider yourself to be a fan of the Star Wars film franchise?'].map({\"Yes\":True, \"No\":False})"
   ]
  },
  {
   "cell_type": "code",
   "execution_count": 6,
   "metadata": {
    "collapsed": false,
    "scrolled": true
   },
   "outputs": [
    {
     "data": {
      "text/plain": [
       "True     552\n",
       "NaN      350\n",
       "False    284\n",
       "Name: Do you consider yourself to be a fan of the Star Wars film franchise?, dtype: int64"
      ]
     },
     "execution_count": 6,
     "metadata": {},
     "output_type": "execute_result"
    }
   ],
   "source": [
    "star_wars['Do you consider yourself to be a fan of the Star Wars film franchise?'].value_counts(dropna=False)\n"
   ]
  },
  {
   "cell_type": "code",
   "execution_count": 7,
   "metadata": {
    "collapsed": false
   },
   "outputs": [
    {
     "data": {
      "text/plain": [
       "Index(['Which of the following Star Wars films have you seen? Please select all that apply.',\n",
       "       'Unnamed: 4', 'Unnamed: 5', 'Unnamed: 6', 'Unnamed: 7', 'Unnamed: 8'],\n",
       "      dtype='object')"
      ]
     },
     "execution_count": 7,
     "metadata": {},
     "output_type": "execute_result"
    }
   ],
   "source": [
    "star_wars.columns[3:9]"
   ]
  },
  {
   "cell_type": "code",
   "execution_count": 8,
   "metadata": {
    "collapsed": false
   },
   "outputs": [
    {
     "data": {
      "text/plain": [
       "Index(['seen_1', 'seen_2', 'seen_3', 'seen_4', 'seen_5', 'seen_6'], dtype='object')"
      ]
     },
     "execution_count": 8,
     "metadata": {},
     "output_type": "execute_result"
    }
   ],
   "source": [
    "columns_map = {'Which of the following Star Wars films have you seen? Please select all that apply.':'seen_1', \n",
    "               'Unnamed: 4':'seen_2', \n",
    "               'Unnamed: 5':'seen_3', \n",
    "               'Unnamed: 6':'seen_4', \n",
    "               'Unnamed: 7':'seen_5', \n",
    "               'Unnamed: 8':'seen_6'}\n",
    "\n",
    "star_wars = star_wars.rename(columns = columns_map)\n",
    "\n",
    "star_wars.columns[3:9]"
   ]
  },
  {
   "cell_type": "code",
   "execution_count": 9,
   "metadata": {
    "collapsed": false,
    "scrolled": true
   },
   "outputs": [
    {
     "data": {
      "text/plain": [
       "False    636\n",
       "True     550\n",
       "Name: seen_3, dtype: int64"
      ]
     },
     "execution_count": 9,
     "metadata": {},
     "output_type": "execute_result"
    }
   ],
   "source": [
    "movie_mapping = {\n",
    "    \"Star Wars: Episode I  The Phantom Menace\": True,\n",
    "    np.nan: False,\n",
    "    \"Star Wars: Episode II  Attack of the Clones\": True,\n",
    "    \"Star Wars: Episode III  Revenge of the Sith\": True,\n",
    "    \"Star Wars: Episode IV  A New Hope\": True,\n",
    "    \"Star Wars: Episode V The Empire Strikes Back\": True,\n",
    "    \"Star Wars: Episode VI Return of the Jedi\": True\n",
    "    }\n",
    "    \n",
    "for i in star_wars.columns[3:9]:\n",
    "    star_wars[i] = star_wars[i].map(movie_mapping)\n",
    "    \n",
    "star_wars.seen_3.value_counts()"
   ]
  },
  {
   "cell_type": "code",
   "execution_count": 10,
   "metadata": {
    "collapsed": false,
    "scrolled": true
   },
   "outputs": [
    {
     "data": {
      "text/html": [
       "<div>\n",
       "<style scoped>\n",
       "    .dataframe tbody tr th:only-of-type {\n",
       "        vertical-align: middle;\n",
       "    }\n",
       "\n",
       "    .dataframe tbody tr th {\n",
       "        vertical-align: top;\n",
       "    }\n",
       "\n",
       "    .dataframe thead th {\n",
       "        text-align: right;\n",
       "    }\n",
       "</style>\n",
       "<table border=\"1\" class=\"dataframe\">\n",
       "  <thead>\n",
       "    <tr style=\"text-align: right;\">\n",
       "      <th></th>\n",
       "      <th>RespondentID</th>\n",
       "      <th>Have you seen any of the 6 films in the Star Wars franchise?</th>\n",
       "      <th>Do you consider yourself to be a fan of the Star Wars film franchise?</th>\n",
       "      <th>seen_1</th>\n",
       "      <th>seen_2</th>\n",
       "      <th>seen_3</th>\n",
       "      <th>seen_4</th>\n",
       "      <th>seen_5</th>\n",
       "      <th>seen_6</th>\n",
       "      <th>Please rank the Star Wars films in order of preference with 1 being your favorite film in the franchise and 6 being your least favorite film.</th>\n",
       "      <th>...</th>\n",
       "      <th>Unnamed: 28</th>\n",
       "      <th>Which character shot first?</th>\n",
       "      <th>Are you familiar with the Expanded Universe?</th>\n",
       "      <th>Do you consider yourself to be a fan of the Expanded Universe?ÂÃ¦</th>\n",
       "      <th>Do you consider yourself to be a fan of the Star Trek franchise?</th>\n",
       "      <th>Gender</th>\n",
       "      <th>Age</th>\n",
       "      <th>Household Income</th>\n",
       "      <th>Education</th>\n",
       "      <th>Location (Census Region)</th>\n",
       "    </tr>\n",
       "  </thead>\n",
       "  <tbody>\n",
       "    <tr>\n",
       "      <th>1</th>\n",
       "      <td>3.292880e+09</td>\n",
       "      <td>True</td>\n",
       "      <td>True</td>\n",
       "      <td>True</td>\n",
       "      <td>True</td>\n",
       "      <td>True</td>\n",
       "      <td>True</td>\n",
       "      <td>True</td>\n",
       "      <td>True</td>\n",
       "      <td>3</td>\n",
       "      <td>...</td>\n",
       "      <td>Very favorably</td>\n",
       "      <td>I don't understand this question</td>\n",
       "      <td>Yes</td>\n",
       "      <td>No</td>\n",
       "      <td>No</td>\n",
       "      <td>Male</td>\n",
       "      <td>18-29</td>\n",
       "      <td>NaN</td>\n",
       "      <td>High school degree</td>\n",
       "      <td>South Atlantic</td>\n",
       "    </tr>\n",
       "    <tr>\n",
       "      <th>2</th>\n",
       "      <td>3.292880e+09</td>\n",
       "      <td>False</td>\n",
       "      <td>NaN</td>\n",
       "      <td>False</td>\n",
       "      <td>False</td>\n",
       "      <td>False</td>\n",
       "      <td>False</td>\n",
       "      <td>False</td>\n",
       "      <td>False</td>\n",
       "      <td>NaN</td>\n",
       "      <td>...</td>\n",
       "      <td>NaN</td>\n",
       "      <td>NaN</td>\n",
       "      <td>NaN</td>\n",
       "      <td>NaN</td>\n",
       "      <td>Yes</td>\n",
       "      <td>Male</td>\n",
       "      <td>18-29</td>\n",
       "      <td>$0 - $24,999</td>\n",
       "      <td>Bachelor degree</td>\n",
       "      <td>West South Central</td>\n",
       "    </tr>\n",
       "    <tr>\n",
       "      <th>3</th>\n",
       "      <td>3.292765e+09</td>\n",
       "      <td>True</td>\n",
       "      <td>False</td>\n",
       "      <td>True</td>\n",
       "      <td>True</td>\n",
       "      <td>True</td>\n",
       "      <td>False</td>\n",
       "      <td>False</td>\n",
       "      <td>False</td>\n",
       "      <td>1</td>\n",
       "      <td>...</td>\n",
       "      <td>Unfamiliar (N/A)</td>\n",
       "      <td>I don't understand this question</td>\n",
       "      <td>No</td>\n",
       "      <td>NaN</td>\n",
       "      <td>No</td>\n",
       "      <td>Male</td>\n",
       "      <td>18-29</td>\n",
       "      <td>$0 - $24,999</td>\n",
       "      <td>High school degree</td>\n",
       "      <td>West North Central</td>\n",
       "    </tr>\n",
       "    <tr>\n",
       "      <th>4</th>\n",
       "      <td>3.292763e+09</td>\n",
       "      <td>True</td>\n",
       "      <td>True</td>\n",
       "      <td>True</td>\n",
       "      <td>True</td>\n",
       "      <td>True</td>\n",
       "      <td>True</td>\n",
       "      <td>True</td>\n",
       "      <td>True</td>\n",
       "      <td>5</td>\n",
       "      <td>...</td>\n",
       "      <td>Very favorably</td>\n",
       "      <td>I don't understand this question</td>\n",
       "      <td>No</td>\n",
       "      <td>NaN</td>\n",
       "      <td>Yes</td>\n",
       "      <td>Male</td>\n",
       "      <td>18-29</td>\n",
       "      <td>$100,000 - $149,999</td>\n",
       "      <td>Some college or Associate degree</td>\n",
       "      <td>West North Central</td>\n",
       "    </tr>\n",
       "    <tr>\n",
       "      <th>5</th>\n",
       "      <td>3.292731e+09</td>\n",
       "      <td>True</td>\n",
       "      <td>True</td>\n",
       "      <td>True</td>\n",
       "      <td>True</td>\n",
       "      <td>True</td>\n",
       "      <td>True</td>\n",
       "      <td>True</td>\n",
       "      <td>True</td>\n",
       "      <td>5</td>\n",
       "      <td>...</td>\n",
       "      <td>Somewhat favorably</td>\n",
       "      <td>Greedo</td>\n",
       "      <td>Yes</td>\n",
       "      <td>No</td>\n",
       "      <td>No</td>\n",
       "      <td>Male</td>\n",
       "      <td>18-29</td>\n",
       "      <td>$100,000 - $149,999</td>\n",
       "      <td>Some college or Associate degree</td>\n",
       "      <td>West North Central</td>\n",
       "    </tr>\n",
       "  </tbody>\n",
       "</table>\n",
       "<p>5 rows × 38 columns</p>\n",
       "</div>"
      ],
      "text/plain": [
       "   RespondentID  Have you seen any of the 6 films in the Star Wars franchise?  \\\n",
       "1  3.292880e+09                                               True              \n",
       "2  3.292880e+09                                              False              \n",
       "3  3.292765e+09                                               True              \n",
       "4  3.292763e+09                                               True              \n",
       "5  3.292731e+09                                               True              \n",
       "\n",
       "  Do you consider yourself to be a fan of the Star Wars film franchise?  \\\n",
       "1                                               True                      \n",
       "2                                                NaN                      \n",
       "3                                              False                      \n",
       "4                                               True                      \n",
       "5                                               True                      \n",
       "\n",
       "   seen_1  seen_2  seen_3  seen_4  seen_5  seen_6  \\\n",
       "1    True    True    True    True    True    True   \n",
       "2   False   False   False   False   False   False   \n",
       "3    True    True    True   False   False   False   \n",
       "4    True    True    True    True    True    True   \n",
       "5    True    True    True    True    True    True   \n",
       "\n",
       "  Please rank the Star Wars films in order of preference with 1 being your favorite film in the franchise and 6 being your least favorite film.  \\\n",
       "1                                                  3                                                                                              \n",
       "2                                                NaN                                                                                              \n",
       "3                                                  1                                                                                              \n",
       "4                                                  5                                                                                              \n",
       "5                                                  5                                                                                              \n",
       "\n",
       "            ...                    Unnamed: 28  \\\n",
       "1           ...                 Very favorably   \n",
       "2           ...                            NaN   \n",
       "3           ...               Unfamiliar (N/A)   \n",
       "4           ...                 Very favorably   \n",
       "5           ...             Somewhat favorably   \n",
       "\n",
       "        Which character shot first?  \\\n",
       "1  I don't understand this question   \n",
       "2                               NaN   \n",
       "3  I don't understand this question   \n",
       "4  I don't understand this question   \n",
       "5                            Greedo   \n",
       "\n",
       "  Are you familiar with the Expanded Universe?  \\\n",
       "1                                          Yes   \n",
       "2                                          NaN   \n",
       "3                                           No   \n",
       "4                                           No   \n",
       "5                                          Yes   \n",
       "\n",
       "  Do you consider yourself to be a fan of the Expanded Universe?ÂÃ¦  \\\n",
       "1                                                 No                   \n",
       "2                                                NaN                   \n",
       "3                                                NaN                   \n",
       "4                                                NaN                   \n",
       "5                                                 No                   \n",
       "\n",
       "  Do you consider yourself to be a fan of the Star Trek franchise? Gender  \\\n",
       "1                                                 No                 Male   \n",
       "2                                                Yes                 Male   \n",
       "3                                                 No                 Male   \n",
       "4                                                Yes                 Male   \n",
       "5                                                 No                 Male   \n",
       "\n",
       "     Age     Household Income                         Education  \\\n",
       "1  18-29                  NaN                High school degree   \n",
       "2  18-29         $0 - $24,999                   Bachelor degree   \n",
       "3  18-29         $0 - $24,999                High school degree   \n",
       "4  18-29  $100,000 - $149,999  Some college or Associate degree   \n",
       "5  18-29  $100,000 - $149,999  Some college or Associate degree   \n",
       "\n",
       "  Location (Census Region)  \n",
       "1           South Atlantic  \n",
       "2       West South Central  \n",
       "3       West North Central  \n",
       "4       West North Central  \n",
       "5       West North Central  \n",
       "\n",
       "[5 rows x 38 columns]"
      ]
     },
     "execution_count": 10,
     "metadata": {},
     "output_type": "execute_result"
    }
   ],
   "source": [
    "star_wars.head()"
   ]
  },
  {
   "cell_type": "code",
   "execution_count": 11,
   "metadata": {
    "collapsed": true
   },
   "outputs": [],
   "source": [
    "for i in star_wars.columns[9:15]:\n",
    "    star_wars[i] = star_wars[i].astype(float)"
   ]
  },
  {
   "cell_type": "code",
   "execution_count": 12,
   "metadata": {
    "collapsed": false,
    "scrolled": true
   },
   "outputs": [
    {
     "data": {
      "text/plain": [
       "Index(['ranking_1', 'ranking_2', 'ranking_3', 'ranking_4', 'ranking_5',\n",
       "       'ranking_6'],\n",
       "      dtype='object')"
      ]
     },
     "execution_count": 12,
     "metadata": {},
     "output_type": "execute_result"
    }
   ],
   "source": [
    "ranking_map = {\n",
    "        \"Please rank the Star Wars films in order of preference with 1 being your favorite film in the franchise and 6 being your least favorite film.\": \"ranking_1\",\n",
    "        \"Unnamed: 10\": \"ranking_2\",\n",
    "        \"Unnamed: 11\": \"ranking_3\",\n",
    "        \"Unnamed: 12\": \"ranking_4\",\n",
    "        \"Unnamed: 13\": \"ranking_5\",\n",
    "        \"Unnamed: 14\": \"ranking_6\"\n",
    "        }\n",
    "\n",
    "star_wars = star_wars.rename(columns=ranking_map)\n",
    "\n",
    "star_wars.columns[9:15]"
   ]
  },
  {
   "cell_type": "code",
   "execution_count": 13,
   "metadata": {
    "collapsed": false
   },
   "outputs": [
    {
     "data": {
      "text/plain": [
       "ranking_1    3.732934\n",
       "ranking_2    4.087321\n",
       "ranking_3    4.341317\n",
       "ranking_4    3.272727\n",
       "ranking_5    2.513158\n",
       "ranking_6    3.047847\n",
       "dtype: float64"
      ]
     },
     "execution_count": 13,
     "metadata": {},
     "output_type": "execute_result"
    }
   ],
   "source": [
    "ranking = star_wars[star_wars.columns[9:15]].mean()\n",
    "\n",
    "ranking"
   ]
  },
  {
   "cell_type": "code",
   "execution_count": 16,
   "metadata": {
    "collapsed": false,
    "scrolled": true
   },
   "outputs": [
    {
     "data": {
      "text/plain": [
       "<matplotlib.axes._subplots.AxesSubplot at 0x7f9fc406e588>"
      ]
     },
     "execution_count": 16,
     "metadata": {},
     "output_type": "execute_result"
    },
    {
     "data": {
      "image/png": "[encoded data removed]",
      "text/plain": [
       "<matplotlib.figure.Figure at 0x7f9fc620aa58>"
      ]
     },
     "metadata": {},
     "output_type": "display_data"
    }
   ],
   "source": [
    "%matplotlib inline\n",
    "\n",
    "ranking.plot.bar()"
   ]
  },
  {
   "cell_type": "code",
   "execution_count": 17,
   "metadata": {
    "collapsed": false
   },
   "outputs": [
    {
     "data": {
      "text/plain": [
       "seen_1    673\n",
       "seen_2    571\n",
       "seen_3    550\n",
       "seen_4    607\n",
       "seen_5    758\n",
       "seen_6    738\n",
       "dtype: int64"
      ]
     },
     "execution_count": 17,
     "metadata": {},
     "output_type": "execute_result"
    }
   ],
   "source": [
    "seen = star_wars[star_wars.columns[3:9]].sum()\n",
    "\n",
    "seen"
   ]
  },
  {
   "cell_type": "code",
   "execution_count": 18,
   "metadata": {
    "collapsed": false,
    "scrolled": true
   },
   "outputs": [
    {
     "data": {
      "text/plain": [
       "<matplotlib.axes._subplots.AxesSubplot at 0x7f9fc3fb7ef0>"
      ]
     },
     "execution_count": 18,
     "metadata": {},
     "output_type": "execute_result"
    },
    {
     "data": {
      "image/png": "[encoded data removed]",
      "text/plain": [
       "<matplotlib.figure.Figure at 0x7f9fc3fd89b0>"
      ]
     },
     "metadata": {},
     "output_type": "display_data"
    }
   ],
   "source": [
    "seen.plot.bar()"
   ]
  },
  {
   "cell_type": "code",
   "execution_count": 24,
   "metadata": {
    "collapsed": true
   },
   "outputs": [],
   "source": [
    "males = star_wars[star_wars['Gender'] == \"Male\"]\n",
    "females = star_wars[star_wars['Gender'] == \"Female\"]\n",
    "\n",
    "seen_males = males[males.columns[3:9]].sum()\n",
    "seen_females = females[females.columns[3:9]].sum()"
   ]
  },
  {
   "cell_type": "code",
   "execution_count": 27,
   "metadata": {
    "collapsed": false
   },
   "outputs": [
    {
     "data": {
      "text/plain": [
       "<matplotlib.axes._subplots.AxesSubplot at 0x7f9fc3da8160>"
      ]
     },
     "execution_count": 27,
     "metadata": {},
     "output_type": "execute_result"
    },
    {
     "data": {
      "image/png": "[encoded data removed]",
      "text/plain": [
       "<matplotlib.figure.Figure at 0x7f9fc3d7c400>"
      ]
     },
     "metadata": {},
     "output_type": "display_data"
    }
   ],
   "source": [
    "seen_females.plot.bar()"
   ]
  },
  {
   "cell_type": "code",
   "execution_count": 30,
   "metadata": {
    "collapsed": false
   },
   "outputs": [
    {
     "data": {
      "text/plain": [
       "<matplotlib.axes._subplots.AxesSubplot at 0x7f9fc6284a90>"
      ]
     },
     "execution_count": 30,
     "metadata": {},
     "output_type": "execute_result"
    },
    {
     "data": {
      "image/png": "[encoded data removed]",
      "text/plain": [
       "<matplotlib.figure.Figure at 0x7f9fc60f47b8>"
      ]
     },
     "metadata": {},
     "output_type": "display_data"
    }
   ],
   "source": [
    "seen_males.plot.bar()"
   ]
  },
  {
   "cell_type": "code",
   "execution_count": 36,
   "metadata": {
    "collapsed": false
   },
   "outputs": [],
   "source": [
    "star_trek_fan = star_wars[star_wars[\"Do you consider yourself to be a fan of the Star Trek franchise?\"] == \"Yes\"]\n",
    "star_wars_fan = star_wars[star_wars[\"Do you consider yourself to be a fan of the Star Wars film franchise?\"] == True]\n",
    "\n",
    "seen_star_trek_fan = star_trek_fan[star_trek_fan.columns[3:9]].sum()\n",
    "seen_star_wars_fan = star_wars_fan[star_wars_fan.columns[3:9]].sum()"
   ]
  },
  {
   "cell_type": "code",
   "execution_count": 34,
   "metadata": {
    "collapsed": false
   },
   "outputs": [
    {
     "data": {
      "text/plain": [
       "<matplotlib.axes._subplots.AxesSubplot at 0x7f9fc3b90f28>"
      ]
     },
     "execution_count": 34,
     "metadata": {},
     "output_type": "execute_result"
    },
    {
     "data": {
      "image/png": "[encoded data removed]",
      "text/plain": [
       "<matplotlib.figure.Figure at 0x7f9fc3c16d30>"
      ]
     },
     "metadata": {},
     "output_type": "display_data"
    }
   ],
   "source": [
    "seen_star_trek_fan.plot.bar()"
   ]
  },
  {
   "cell_type": "code",
   "execution_count": 37,
   "metadata": {
    "collapsed": false,
    "scrolled": true
   },
   "outputs": [
    {
     "data": {
      "text/plain": [
       "<matplotlib.axes._subplots.AxesSubplot at 0x7f9fc3965e10>"
      ]
     },
     "execution_count": 37,
     "metadata": {},
     "output_type": "execute_result"
    },
    {
     "data": {
      "image/png": "[encoded data removed]",
      "text/plain": [
       "<matplotlib.figure.Figure at 0x7f9fc3973dd8>"
      ]
     },
     "metadata": {},
     "output_type": "display_data"
    }
   ],
   "source": [
    "seen_star_wars_fan.plot.bar()"
   ]
  },
  {
   "cell_type": "code",
   "execution_count": 39,
   "metadata": {
    "collapsed": false
   },
   "outputs": [
    {
     "data": {
      "text/plain": [
       "ranking_1    4.141304\n",
       "ranking_2    4.342391\n",
       "ranking_3    4.417423\n",
       "ranking_4    2.932971\n",
       "ranking_5    2.333333\n",
       "ranking_6    2.829710\n",
       "dtype: float64"
      ]
     },
     "execution_count": 39,
     "metadata": {},
     "output_type": "execute_result"
    }
   ],
   "source": [
    "ranking_star_trek_fan = star_trek_fan[star_trek_fan.columns[9:15]].mean()\n",
    "ranking_star_wars_fan = star_wars_fan[star_wars_fan.columns[9:15]].mean()\n",
    "ranking_star_wars_fan"
   ]
  },
  {
   "cell_type": "code",
   "execution_count": 40,
   "metadata": {
    "collapsed": false
   },
   "outputs": [
    {
     "data": {
      "text/plain": [
       "<matplotlib.axes._subplots.AxesSubplot at 0x7f9fc38d9320>"
      ]
     },
     "execution_count": 40,
     "metadata": {},
     "output_type": "execute_result"
    },
    {
     "data": {
      "image/png": "[encoded data removed]",
      "text/plain": [
       "<matplotlib.figure.Figure at 0x7f9fc38e22e8>"
      ]
     },
     "metadata": {},
     "output_type": "display_data"
    }
   ],
   "source": [
    "ranking_star_trek_fan.plot.bar()"
   ]
  },
  {
   "cell_type": "code",
   "execution_count": 42,
   "metadata": {
    "collapsed": false
   },
   "outputs": [
    {
     "data": {
      "text/plain": [
       "<matplotlib.axes._subplots.AxesSubplot at 0x7f9fc37ce550>"
      ]
     },
     "execution_count": 42,
     "metadata": {},
     "output_type": "execute_result"
    },
    {
     "data": {
      "image/png": "[encoded data removed]",
      "text/plain": [
       "<matplotlib.figure.Figure at 0x7f9fc37dc668>"
      ]
     },
     "metadata": {},
     "output_type": "display_data"
    }
   ],
   "source": [
    "ranking_star_wars_fan.plot.bar()"
   ]
  }
 ],
 "metadata": {
  "kernelspec": {
   "display_name": "Python 3",
   "language": "python",
   "name": "python3"
  },
  "language_info": {
   "codemirror_mode": {
    "name": "ipython",
    "version": 3
   },
   "file_extension": ".py",
   "mimetype": "text/x-python",
   "name": "python",
   "nbconvert_exporter": "python",
   "pygments_lexer": "ipython3",
   "version": "3.4.3"
  }
 },
 "nbformat": 4,
 "nbformat_minor": 0
}
